{
 "cells": [
  {
   "cell_type": "markdown",
   "id": "7f3dcffd",
   "metadata": {},
   "source": [
    "# PyTorch Fourier Basis for Linear Function Approximation\n",
    "\n",
    "Fourier basis representation as described in [Reinforcement Learning: An Introduction by Richard S. Sutton\n",
    "and Andrew G. Barto](http://incompleteideas.net/book/the-book.html), **Section 9.5.2 Fourier Basis**.\n",
    "\n",
    "Represent state $\\mathbf{s} \\in \\mathbb{R}^k$ as feature vector $\\mathbf{x} \\in \\mathbb{R}^{(n + 1)^k}$ using\n",
    "order- $n$ fourier basis with coefficients $C \\in \\mathbb{R}^{k \\times (n + 1)^k}$\n",
    "\n",
    "$$\n",
    "\\begin{align*}\n",
    "\\mathbf{s} &= (s_1, s_2, \\dots, s_k)^T, \\; s_i \\in [0, 1] \\\\\n",
    "\\mathbf{c}^i &= (c_1^i, c_2^i, \\dots, c_k^i)^T \\\\\n",
    "c_j^i &\\in \\{0, \\dots, k\\}, \\; j = 1, \\dots, k, \\; i = 1, \\dots, (n + 1)^k \\\\\n",
    "x_j(s) &= cos(\\pi \\mathbf{s}^T \\mathbf{c}^j) \\\\\n",
    "C &= \\left(\\mathbf{c}^1, \\mathbf{c}^2, \\dots, \\mathbf{c}^{(n + 1)^k}\\right), \\; C \\in \\mathbb{R}^{k \\times (n + 1)^k} \\\\\n",
    "\\mathbf{x} &= cos(i \\pi s^T C), \\; \\mathbf{x} \\in \\mathbb{R}^{(n + 1)^k} \\\\\n",
    "\\end{align*}\n",
    "$$\n",
    "\n",
    ".\n",
    "\n",
    "## Example\n",
    "\n",
    "A state consists of two continous variables, `s0` and `s1` with values in `[0, 1]`."
   ]
  },
  {
   "cell_type": "code",
   "execution_count": null,
   "id": "65f54eb8",
   "metadata": {},
   "outputs": [],
   "source": [
    "import torch\n",
    "\n",
    "D = 256\n",
    "s = torch.linspace(0.0, 1.0, D)\n",
    "s0, s1 = torch.stack(torch.meshgrid(s, s, indexing=\"xy\"))"
   ]
  },
  {
   "cell_type": "markdown",
   "id": "bc9cfa46",
   "metadata": {},
   "source": [
    "A `FourierBasis` is constructed for two features `k=2` (state space) and fourier basis `n=5` and applied to representation of the whole state space."
   ]
  },
  {
   "cell_type": "code",
   "execution_count": null,
   "id": "b3a4b64a",
   "metadata": {},
   "outputs": [],
   "source": [
    "from fourierbasis import FourierBasis\n",
    "\n",
    "fb = FourierBasis(2, 5)\n",
    "x = fb(torch.stack((s0, s1), dim=2).view(-1, 2)).view(D, D, -1)"
   ]
  },
  {
   "cell_type": "markdown",
   "id": "1e5b57f9",
   "metadata": {},
   "source": [
    "The indices to coefficients matching **Figure 9.4** are determined."
   ]
  },
  {
   "cell_type": "code",
   "execution_count": null,
   "id": "7c24bf9e",
   "metadata": {},
   "outputs": [],
   "source": [
    "from itertools import product\n",
    "\n",
    "coeff = list(product(range(5 + 1), repeat=2))\n",
    "indices = [coeff.index(v) for v in [(0, 1), (1, 0), (1, 1), (0, 5), (2, 5), (5, 2)]]"
   ]
  },
  {
   "cell_type": "markdown",
   "id": "57780ada",
   "metadata": {},
   "source": [
    "Specific components of the state space represented in fourier basis space (compare with **Figure 9.4**)."
   ]
  },
  {
   "cell_type": "code",
   "execution_count": null,
   "id": "19510e46",
   "metadata": {},
   "outputs": [],
   "source": [
    "from matplotlib import pyplot as plt, rc\n",
    "from matplotlib.ticker import FixedLocator\n",
    "\n",
    "rc(\"image\", cmap=\"gray\")\n",
    "fig, ax = plt.subplots(2, 3, figsize=(8, 4))\n",
    "ax = ax.flatten()\n",
    "extent = [0, 1, 1, 0]\n",
    "locator = FixedLocator([0, 1])\n",
    "for a, i in zip(ax, indices):\n",
    "    im = a.imshow(x[..., i], extent=extent)\n",
    "    a.invert_yaxis()\n",
    "    a.xaxis.set_major_formatter(\"{x:.0f}\")\n",
    "    a.xaxis.set_major_locator(locator)\n",
    "    a.yaxis.set_major_formatter(\"{x:.0f}\")\n",
    "    a.yaxis.set_major_locator(locator)\n",
    "    a.set_title(f\"c={coeff[i]}^T\")\n",
    "    a.set_xlabel(\"s0\")\n",
    "    a.set_ylabel(\"s1\")\n",
    "fig.subplots_adjust(left=0.0, right=0.75, top=1.0, bottom=0.0, wspace=0.4, hspace=0.4)\n",
    "cbar_ax = fig.add_axes([0.8, 0.25, 0.05, 0.5])\n",
    "fig.colorbar(im, cax=cbar_ax, format=\"{x:4.1f}\");"
   ]
  },
  {
   "cell_type": "markdown",
   "id": "c7590173",
   "metadata": {},
   "source": [
    "## Installation\n",
    "\n",
    "```\n",
    "pip install git+https://github.com/tasptz/pytorch-fourierbasis.git\n",
    "```\n"
   ]
  }
 ],
 "metadata": {
  "kernelspec": {
   "display_name": "Python 3 (ipykernel)",
   "language": "python",
   "name": "python3"
  },
  "language_info": {
   "codemirror_mode": {
    "name": "ipython",
    "version": 3
   },
   "file_extension": ".py",
   "mimetype": "text/x-python",
   "name": "python",
   "nbconvert_exporter": "python",
   "pygments_lexer": "ipython3",
   "version": "3.10.6"
  }
 },
 "nbformat": 4,
 "nbformat_minor": 5
}
